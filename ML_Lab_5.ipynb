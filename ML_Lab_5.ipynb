{
  "nbformat": 4,
  "nbformat_minor": 0,
  "metadata": {
    "colab": {
      "provenance": []
    },
    "kernelspec": {
      "name": "python3",
      "display_name": "Python 3"
    },
    "language_info": {
      "name": "python"
    }
  },
  "cells": [
    {
      "cell_type": "code",
      "execution_count": null,
      "metadata": {
        "id": "8RHg70CB3JA_",
        "colab": {
          "base_uri": "https://localhost:8080/"
        },
        "outputId": "74846b8d-89c0-477c-f1a9-a66163ed3ce2"
      },
      "outputs": [
        {
          "output_type": "stream",
          "name": "stdout",
          "text": [
            "    Outlook Temperature Humidity    Wind Answer\n",
            "0     sunny         hot     high    weak     no\n",
            "1     sunny         hot     high  strong     no\n",
            "2  overcast         hot     high    weak    yes\n",
            "3      rain        mild     high    weak    yes\n",
            "4      rain        cool   normal    weak    yes\n",
            "Accuracy: 0.0\n",
            "Predicted class for new sample: 1\n"
          ]
        },
        {
          "output_type": "stream",
          "name": "stderr",
          "text": [
            "/usr/local/lib/python3.10/dist-packages/sklearn/base.py:439: UserWarning: X does not have valid feature names, but DecisionTreeClassifier was fitted with feature names\n",
            "  warnings.warn(\n"
          ]
        }
      ],
      "source": [
        "# 1 Write a program to demonstrate the working of the decision tree. Use an given data set for building the decision tree and\n",
        "#apply this knowledge to classify a new sample.\n",
        "#Dataset name: weather.csv\n",
        "\n",
        "import pandas as pd\n",
        "from sklearn.model_selection import train_test_split\n",
        "from sklearn.tree import DecisionTreeClassifier\n",
        "from sklearn import tree\n",
        "from sklearn.metrics import accuracy_score\n",
        "\n",
        "df = pd.read_csv('weatherdata.csv')\n",
        "print(df.head())\n",
        "df = pd.get_dummies(df, columns=['Outlook', 'Temperature', 'Humidity', 'Wind', 'Answer'], drop_first=True)\n",
        "\n",
        "X = df.drop('Answer_yes', axis=1)\n",
        "y = df['Answer_yes']\n",
        "\n",
        "X_train, X_test, y_train, y_test = train_test_split(X, y, test_size=0.2, random_state=42)\n",
        "\n",
        "clf = DecisionTreeClassifier()\n",
        "clf.fit(X_train, y_train)\n",
        "\n",
        "y_pred = clf.predict(X_test)\n",
        "\n",
        "accuracy = accuracy_score(y_test, y_pred)\n",
        "print(\"Accuracy:\", accuracy)\n",
        "\n",
        "new_sample = pd.DataFrame({\n",
        "    'Outlook_sunny': [0],\n",
        "    'Outlook_overcast': [0],\n",
        "    'Outlook_rain': [0],\n",
        "    'Temperature_hot': [1],\n",
        "    'Temperature_mild': [0],\n",
        "    'Humidity_normal': [1],\n",
        "    'Wind_weak': [1]\n",
        "})\n",
        "prediction = clf.predict(new_sample.values)[0]\n",
        "print(\"Predicted class for new sample:\", prediction)"
      ]
    },
    {
      "cell_type": "code",
      "source": [
        "#2 Imagine that you are a medical researcher compiling data for a study.You have collected data about a set of patients, all of whom suffered from\n",
        "#the same illness. During their course of treatment, each patient responded to one of 5 medications, Drug A, Drug B, Drug c, Drug x and y.\n",
        "#Part of your job is to build a model to find out which drug might be appropriate for a future patient with the same illness. The feature sets of\n",
        "#this dataset are Age, Sex, Blood Pressure, and Cholesterol of patients, and the target is the drug that each patient responded to.\n",
        "#It is a sample of binary classifier, and you can use the training part of the dataset to build a decision tree, and then use it to predict\n",
        "#the class of a unknown patient, or to prescribe it to a new patient.\n",
        "#Dataset name:drugdata.csv\n",
        "\n",
        "import pandas as pd\n",
        "from sklearn.model_selection import train_test_split\n",
        "from sklearn.tree import DecisionTreeClassifier\n",
        "from sklearn import tree\n",
        "from sklearn.metrics import accuracy_score\n",
        "\n",
        "# Step 1: Load and explore the dataset\n",
        "data = pd.read_csv('drugdata.csv')\n",
        "print(data.head())\n",
        "\n",
        "# Step 2: Preprocess the data\n",
        "# Handle any missing values and encode categorical variables (if any)\n",
        "\n",
        "# Assuming the dataset is clean and does not require preprocessing\n",
        "\n",
        "# Step 3: Split the dataset into features (X) and target variable (y)\n",
        "X = data[['Age', 'Sex', 'BP', 'Cholesterol']]\n",
        "y = data['Drug']\n",
        "\n",
        "# Encode categorical variables\n",
        "X = pd.get_dummies(X)\n",
        "\n",
        "# Step 4: Split the dataset into training and testing sets\n",
        "X_train, X_test, y_train, y_test = train_test_split(X, y, test_size=0.2, random_state=42)\n",
        "\n",
        "# Step 5: Train a decision tree classifier\n",
        "clf = DecisionTreeClassifier()\n",
        "clf.fit(X_train, y_train)\n",
        "\n",
        "# Step 6: Evaluate the model\n",
        "y_pred = clf.predict(X_test)\n",
        "accuracy = accuracy_score(y_test, y_pred)\n",
        "print(\"Accuracy:\", accuracy)\n",
        "\n",
        "# Step 7: Use the trained model to predict the class for new patients\n",
        "# Create a new patient"
      ],
      "metadata": {
        "id": "xrk6rPqG3nPz",
        "colab": {
          "base_uri": "https://localhost:8080/"
        },
        "outputId": "a6941920-5d5b-4819-d7b2-f145a99a8ddc"
      },
      "execution_count": null,
      "outputs": [
        {
          "output_type": "stream",
          "name": "stdout",
          "text": [
            "   Unnamed: 0  Age Sex      BP Cholesterol  Na_to_K   Drug\n",
            "0           0   23   F    HIGH        HIGH   25.355  drugY\n",
            "1           1   47   M     LOW        HIGH   13.093  drugC\n",
            "2           2   47   M     LOW        HIGH   10.114  drugC\n",
            "3           3   28   F  NORMAL        HIGH    7.798  drugX\n",
            "4           4   61   F     LOW        HIGH   18.043  drugY\n",
            "Accuracy: 0.6\n"
          ]
        }
      ]
    },
    {
      "cell_type": "code",
      "source": [],
      "metadata": {
        "id": "kwOpQ1HUcsKN"
      },
      "execution_count": null,
      "outputs": []
    }
  ]
}